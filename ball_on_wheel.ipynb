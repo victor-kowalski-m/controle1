{
 "cells": [
  {
   "cell_type": "markdown",
   "metadata": {
    "cell_id": "00000-202c4321-e54e-4a0c-bec2-767c402c0132",
    "deepnote_cell_type": "markdown",
    "id": "TFL27QDFYFSb",
    "lang": "pt"
   },
   "source": [
    "# PMR3404 - Controle I\n",
    "# Projeto Final (Ball on Wheel)\n",
    "\n",
    "#### Bruno Fernandes Maione (10770631)\n",
    "#### Victor Kowalski Martins (10770482)\n",
    "\n",
    "#### Professores: Eduardo Aoun Tannuri e Newton Maruyama\n",
    "\n",
    "#### Julho 2021"
   ]
  },
  {
   "cell_type": "markdown",
   "metadata": {
    "lang": "en"
   },
   "source": [
    "# PMR3404 - Control I\n",
    "# Final Project (Ball on Wheel)\n",
    "\n",
    "#### Bruno Fernandes Maione (10770631)\n",
    "#### Victor Kowalski Martins (10770482)\n",
    "\n",
    "#### Teachers: Eduardo Aoun Tannuri and Newton Maruyama\n",
    "\n",
    "#### July 2021"
   ]
  },
  {
   "cell_type": "code",
   "execution_count": 1,
   "metadata": {
    "cell_id": "00001-c45d5ffd-211e-4627-9ab2-b3c282342b2d",
    "deepnote_cell_type": "code",
    "deepnote_to_be_reexecuted": false,
    "execution_millis": 2504,
    "execution_start": 1627852167333,
    "id": "tfDhZcd2YFSe",
    "source_hash": "89b0968e"
   },
   "outputs": [],
   "source": [
    "# Aqui importamos todas as bibliotecas que serão utilizadas no projeto\n",
    "\n",
    "from sympy import *\n",
    "from grafico_margens import plot_margins\n",
    "import warnings\n",
    "init_printing(use_unicode=True)\n",
    "warnings.filterwarnings('ignore')\n",
    "import control.matlab as co\n",
    "import matplotlib.pyplot as plt\n",
    "import numpy as np\n",
    "from ipywidgets import interact"
   ]
  },
  {
   "cell_type": "markdown",
   "metadata": {
    "lang": "en"
   },
   "source": [
    "### 1. Introduction\n",
    "\n",
    "This work aims to model the control for a system called \"Ball on Wheel\". It consists of a wheel, with non-negligible inertia and driven by a DC motor, on which a ball must be balanced. A position sensor measures the ball's displacement with respect to the vertical axis (ie, the $y(t)$ variable). The purpose of the control system is to keep the ball on top of the wheel. It is assumed that there is no slippage between the parts.\n",
    "\n",
    "The Figure below shows a real photo of the system together with a schematic drawing.\n",
    "\n",
    "![Picture title](Pictures/Real_Esquema.png)\n",
    "\n",
    "The ball has mass $m$, moment of inertia $\\vartheta$ and radius $r$. The wheel has $\\Theta$ moment of inertia and $R$ radius.\n",
    "\n",
    "Wheel torque is given by $\\tau(t)$. The angular position of the wheel relative to the vertical axis is given by $\\psi(t)$, the angular position of the ball around the center of the wheel is described by $\\chi(t)$ and the linear displacement with respect to the vertical axis, assuming no slip, is given by: $y(t) = (R+r)sin(\\chi(t))$ .\n",
    "\n",
    "Therefore, considering that the equations of motion, motor dynamics and the physical parameters of the system were exposed in the statement (and will also be exposed throughout the development), it is possible to proceed to the analysis of the plant for a subsequent dimensioning of the controller passed over."
   ]
  },
  {
   "cell_type": "markdown",
   "metadata": {
    "lang": "en"
   },
   "source": [
    "### 2. Details of the Plant\n",
    "\n",
    "The first step to be carried out for this project is the definition and simplification of the equations of motion, which will have to be analyzed for a future construction of the block diagram of our plant.\n",
    "\n",
    "As we will work with small angles and, mainly, to enable the posterior laplace transforms, the following approximation will be used for the sines:\n",
    "\n",
    "$$\n",
    "sin(x) = x\n",
    "$$\n",
    "\n",
    "Such approximation, adapted from the first fundamental limit of the Calculus, works for angles smaller than 14º with an error of less than 1%, which is a perfectly satisfactory precision for the project."
   ]
  },
  {
   "cell_type": "code",
   "execution_count": 2,
   "metadata": {
    "cell_id": "00003-aca322d3-0d0e-4ae9-877b-a873694e5a42",
    "deepnote_cell_type": "code",
    "deepnote_to_be_reexecuted": false,
    "execution_millis": 137,
    "execution_start": 1627852169857,
    "id": "e6X3u0LLYFSf",
    "scrolled": true,
    "source_hash": "59eb0697"
   },
   "outputs": [],
   "source": [
    "# Definindo as equações de movimento\n",
    "\n",
    "t = symbols('t')\n",
    "s = symbols('s')\n",
    "m = symbols('m')\n",
    "r = symbols('r')\n",
    "R = symbols('R')\n",
    "g = symbols('g')\n",
    "v = symbols('vartheta')\n",
    "O = symbols('Theta')\n",
    "n = symbols('n')\n",
    "Kt = symbols('K_t')\n",
    "Kv = symbols('K_v')\n",
    "Lm = symbols('L_m')\n",
    "Rm = symbols('R_m')\n",
    "T = symbols('Gamma')\n",
    "\n",
    "y, psi, chi, u, i, V = symbols('y, psi, chi, u, i, V', cls=Function)\n",
    "\n",
    "y = y(t)\n",
    "y_dot = y.diff()\n",
    "y_ddot = y_dot.diff()\n",
    "\n",
    "psi = psi(t)\n",
    "psi_dot = psi.diff()\n",
    "psi_ddot = psi_dot.diff()\n",
    "\n",
    "chi = chi(t)\n",
    "chi_dot = chi.diff()\n",
    "chi_ddot = chi_dot.diff()\n",
    "\n",
    "u = u(t)\n",
    "u_dot = u.diff()\n",
    "u_ddot = u_dot.diff()\n",
    "\n",
    "i = i(t)\n",
    "i_dot = i.diff()\n",
    "i_ddot = i_dot.diff()\n",
    "\n",
    "V = V(t)\n",
    "V_dot = V.diff()\n",
    "V_ddot = V_dot.diff()\n",
    "\n",
    "eq_y = Eq(y ,(R+r)*chi)\n",
    "eq_psi_ddot = Eq(psi_ddot ,((m*(r**2) + v)*u + m*g*R*v*chi)/T)\n",
    "eq_chi_ddot = Eq(chi_ddot ,(v*R*u + (O*(r**2) + v*(R**2))*m*g*chi)/(T*(r+R)))\n",
    "eq_u = Eq(u ,n*Kt*i)\n",
    "eq_V = Eq(V, Lm*i_dot + Rm*i + Kv*psi_dot)"
   ]
  },
  {
   "cell_type": "markdown",
   "metadata": {
    "lang": "en"
   },
   "source": [
    "Once with the equations defined in the code, we can carry out the manipulations in the frequency domain, with the laplace transforms.\n",
    "\n",
    "As the Sympy library in Python doesn't have native support for laplace transforms with derivatives and integrals, we must define a function (that takes advantage of the native library basics) to cover such functionalities and allow the use along the deductions, since these peculiarities would definitely be used."
   ]
  },
  {
   "cell_type": "code",
   "execution_count": 3,
   "metadata": {
    "cell_id": "00004-6484d228-93e4-47ff-8883-4884cce92298",
    "colab": {
     "base_uri": "https://localhost:8080/",
     "height": 55
    },
    "deepnote_cell_type": "code",
    "deepnote_to_be_reexecuted": false,
    "execution_millis": 4,
    "execution_start": 1627852170004,
    "id": "prWni-fAYFSg",
    "outputId": "7c8f81c0-f4b3-44fb-8bd9-02755dc22187",
    "source_hash": "1c670119"
   },
   "outputs": [],
   "source": [
    "def laplace_completa(e, t, s):\n",
    "    \"\"\"\n",
    "        Função completa adaptada da biblioteca da transformada de laplace, acrescido do suporte à derivadas e integrais.\n",
    "        Adaptada de: https://github.com/sympy/sympy/issues/7219#issuecomment-154768904\n",
    "\n",
    "        Parâmetros\n",
    "            Inputs: e (expressão simbólica à ser transformada), t (simbólico que representa o tempo), s (simbólico que representa o s de nossa transformada)\n",
    "            Outputs: res (expressão simbólica após a transformada)\n",
    "    \"\"\"\n",
    "\n",
    "    res = laplace_transform(e, t, s, noconds=True)\n",
    "    wf = Wild('f')\n",
    "    lw = LaplaceTransform(wf, t, s)\n",
    "\n",
    "    for exp in res.find(lw):\n",
    "        e = exp.match(lw)[wf]\n",
    "        args = e.args\n",
    "\n",
    "        if isinstance(e, Derivative):\n",
    "            # for derivative check that there's only d/dt^n with n>0\n",
    "            if len(args) == 2 and args[1][0] == t:\n",
    "                n = args[1][1]\n",
    "                if n > 0:\n",
    "                    newexp = s**n * LaplaceTransform(e.args[0], t, s)\n",
    "                res = res.replace(exp, newexp)\n",
    "\n",
    "        elif isinstance(e, Integral):\n",
    "            # for integral check that there's only n consecutive indefinite integrals w.r.t. t\n",
    "            if all(len(arg) == 1 and arg[0] == t for arg in args[1:]):\n",
    "                newexp = s**(-len(args[1:])) * LaplaceTransform(args[0], t, s)\n",
    "                res = res.replace(exp, newexp)\n",
    "\n",
    "        # caso não tenha derivada ou integral, segue sem entrar nos ifs\n",
    "\n",
    "    return res"
   ]
  },
  {
   "cell_type": "code",
   "execution_count": 4,
   "metadata": {
    "cell_id": "00007-e892485d-cbbe-48f3-91a8-808629559b1f",
    "deepnote_cell_type": "code",
    "deepnote_output_heights": [
     39
    ],
    "deepnote_to_be_reexecuted": false,
    "execution_millis": 688,
    "execution_start": 1627852170036,
    "source_hash": "c4c4e8",
    "tags": []
   },
   "outputs": [
    {
     "data": {
      "image/png": "[encoded data removed]",
      "text/latex": [
       "$\\displaystyle \\mathcal{L}_{t}\\left[i{\\left(t \\right)}\\right]\\left(s\\right) = \\frac{- K_{v} s \\mathcal{L}_{t}\\left[\\psi{\\left(t \\right)}\\right]\\left(s\\right) + \\mathcal{L}_{t}\\left[V{\\left(t \\right)}\\right]\\left(s\\right)}{L_{m} s + R_{m}}$"
      ],
      "text/plain": [
       "                               -Kᵥ⋅s⋅LaplaceTransform(ψ(t), t, s) + LaplaceTra\n",
       "LaplaceTransform(i(t), t, s) = ───────────────────────────────────────────────\n",
       "                                                           Lₘ⋅s + Rₘ          \n",
       "\n",
       "nsform(V(t), t, s)\n",
       "──────────────────\n",
       "                  "
      ]
     },
     "execution_count": 4,
     "metadata": {},
     "output_type": "execute_result"
    }
   ],
   "source": [
    "i_s = laplace_completa(i, t, s)\n",
    "eq_i_s = Eq(i_s, solve(Eq(laplace_completa(eq_V.lhs,t,s), laplace_completa(eq_V.rhs,t,s)), i_s)[0])\n",
    "eq_i_s"
   ]
  },
  {
   "cell_type": "code",
   "execution_count": 5,
   "metadata": {
    "cell_id": "00008-04a4bf59-2b56-4574-9933-ce14170c1b33",
    "deepnote_cell_type": "code",
    "deepnote_output_heights": [
     25
    ],
    "deepnote_to_be_reexecuted": false,
    "execution_millis": 37,
    "execution_start": 1627852170755,
    "source_hash": "b7efd89c",
    "tags": []
   },
   "outputs": [
    {
     "data": {
      "image/png": "[encoded data removed]",
      "text/latex": [
       "$\\displaystyle \\mathcal{L}_{t}\\left[u{\\left(t \\right)}\\right]\\left(s\\right) = K_{t} n \\mathcal{L}_{t}\\left[i{\\left(t \\right)}\\right]\\left(s\\right)$"
      ],
      "text/plain": [
       "LaplaceTransform(u(t), t, s) = Kₜ⋅n⋅LaplaceTransform(i(t), t, s)"
      ]
     },
     "execution_count": 5,
     "metadata": {},
     "output_type": "execute_result"
    }
   ],
   "source": [
    "u_s = laplace_completa(u, t, s)\n",
    "eq_u_s = Eq(u_s, solve(Eq(laplace_completa(eq_u.lhs,t,s), laplace_completa(eq_u.rhs,t,s)), u_s)[0])\n",
    "eq_u_s"
   ]
  },
  {
   "cell_type": "code",
   "execution_count": 6,
   "metadata": {
    "cell_id": "00009-1ba39c59-3ba3-49b8-9ac6-b2cf7f6e07a1",
    "deepnote_cell_type": "code",
    "deepnote_output_heights": [
     42
    ],
    "deepnote_to_be_reexecuted": false,
    "execution_millis": 414,
    "execution_start": 1627852170851,
    "source_hash": "c4d24e49",
    "tags": []
   },
   "outputs": [
    {
     "data": {
      "image/png": "[encoded data removed]",
      "text/latex": [
       "$\\displaystyle \\mathcal{L}_{t}\\left[\\chi{\\left(t \\right)}\\right]\\left(s\\right) = \\frac{R \\vartheta \\mathcal{L}_{t}\\left[u{\\left(t \\right)}\\right]\\left(s\\right)}{\\Gamma R s^{2} + \\Gamma r s^{2} - R^{2} g m \\vartheta - \\Theta g m r^{2}}$"
      ],
      "text/plain": [
       "                                 R⋅vartheta⋅LaplaceTransform(u(t), t, s)   \n",
       "LaplaceTransform(χ(t), t, s) = ────────────────────────────────────────────\n",
       "                                    2        2    2                       2\n",
       "                               Γ⋅R⋅s  + Γ⋅r⋅s  - R ⋅g⋅m⋅vartheta - Θ⋅g⋅m⋅r "
      ]
     },
     "execution_count": 6,
     "metadata": {},
     "output_type": "execute_result"
    }
   ],
   "source": [
    "chi_s = laplace_completa(chi, t, s)\n",
    "eq_chi_s = Eq(chi_s, solve(Eq(laplace_completa(eq_chi_ddot.lhs,t,s), laplace_completa(eq_chi_ddot.rhs,t,s)), chi_s)[0]).simplify()\n",
    "eq_chi_s"
   ]
  },
  {
   "cell_type": "code",
   "execution_count": 7,
   "metadata": {
    "cell_id": "00006-f5993cc4-85cb-4182-9036-664e484d082c",
    "deepnote_cell_type": "code",
    "deepnote_output_heights": [
     42
    ],
    "deepnote_to_be_reexecuted": false,
    "execution_millis": 124,
    "execution_start": 1627852171356,
    "source_hash": "3c4d0191",
    "tags": []
   },
   "outputs": [
    {
     "data": {
      "image/png": "[encoded data removed]",
      "text/latex": [
       "$\\displaystyle \\mathcal{L}_{t}\\left[\\psi{\\left(t \\right)}\\right]\\left(s\\right) = \\frac{R g m \\vartheta \\mathcal{L}_{t}\\left[\\chi{\\left(t \\right)}\\right]\\left(s\\right) + m r^{2} \\mathcal{L}_{t}\\left[u{\\left(t \\right)}\\right]\\left(s\\right) + \\vartheta \\mathcal{L}_{t}\\left[u{\\left(t \\right)}\\right]\\left(s\\right)}{\\Gamma s^{2}}$"
      ],
      "text/plain": [
       "                                                                              \n",
       "                               R⋅g⋅m⋅vartheta⋅LaplaceTransform(χ(t), t, s) + m\n",
       "LaplaceTransform(ψ(t), t, s) = ───────────────────────────────────────────────\n",
       "                                                                              \n",
       "                                                                              \n",
       "\n",
       "  2                                                                     \n",
       "⋅r ⋅LaplaceTransform(u(t), t, s) + vartheta⋅LaplaceTransform(u(t), t, s)\n",
       "────────────────────────────────────────────────────────────────────────\n",
       "              2                                                         \n",
       "           Γ⋅s                                                          "
      ]
     },
     "execution_count": 7,
     "metadata": {},
     "output_type": "execute_result"
    }
   ],
   "source": [
    "psi_s = laplace_completa(psi, t, s)\n",
    "eq_psi_s = Eq(psi_s, solve(Eq(laplace_completa(eq_psi_ddot.lhs,t,s), laplace_completa(eq_psi_ddot.rhs,t,s)), psi_s)[0])\n",
    "eq_psi_s"
   ]
  },
  {
   "cell_type": "code",
   "execution_count": 8,
   "metadata": {
    "cell_id": "00008-af80a9b1-fa1e-452e-b2c5-cdb106fb32f5",
    "deepnote_cell_type": "code",
    "deepnote_output_heights": [
     25
    ],
    "deepnote_to_be_reexecuted": false,
    "execution_millis": 45,
    "execution_start": 1627852171472,
    "source_hash": "7532c585",
    "tags": []
   },
   "outputs": [
    {
     "data": {
      "image/png": "[encoded data removed]",
      "text/latex": [
       "$\\displaystyle \\mathcal{L}_{t}\\left[y{\\left(t \\right)}\\right]\\left(s\\right) = \\left(R + r\\right) \\mathcal{L}_{t}\\left[\\chi{\\left(t \\right)}\\right]\\left(s\\right)$"
      ],
      "text/plain": [
       "LaplaceTransform(y(t), t, s) = (R + r)⋅LaplaceTransform(χ(t), t, s)"
      ]
     },
     "execution_count": 8,
     "metadata": {},
     "output_type": "execute_result"
    }
   ],
   "source": [
    "y_s = laplace_completa(y, t, s)\n",
    "eq_y_s = Eq(y_s, solve(Eq(laplace_completa(eq_y.lhs,t,s), laplace_completa(eq_y.rhs,t,s)), y_s)[0])\n",
    "eq_y_s"
   ]
  },
  {
   "cell_type": "markdown",
   "metadata": {
    "lang": "en"
   },
   "source": [
    "With the expressions transformed to the frequency domain, we can build the block diagram (in open loop) of our system.\n",
    "\n",
    "![Picture title](Pictures/db-inicial.png)\n",
    "\n",
    "$$\\frac{R\\vartheta}{\\Gamma(R+r)s^2 - mg(\\Theta r^2 + \\vartheta R^2)}$$ is called $$G_1(s)$$ and you can simplify the block diagram as follows:\n",
    "\n",
    "![Picture title](Pictures/db-intermediario.png)\n",
    "\n",
    "We are now going to carry out the other operations to obtain only one block from our plant.\n",
    "The cells below do the same, step by step, using Python functionality."
   ]
  },
  {
   "cell_type": "code",
   "execution_count": 9,
   "metadata": {
    "cell_id": "00014-4af2c3cf-54bd-4d1d-8717-f2aee16afb4c",
    "deepnote_cell_type": "code",
    "deepnote_output_heights": [
     45
    ],
    "deepnote_to_be_reexecuted": false,
    "execution_millis": 984,
    "execution_start": 1627852171519,
    "source_hash": "bb5279c",
    "tags": []
   },
   "outputs": [
    {
     "data": {
      "image/png": "[encoded data removed]",
      "text/latex": [
       "$\\displaystyle \\frac{K_{t} R n s \\vartheta \\left(R + r\\right) \\left(R^{2} m \\vartheta + \\Theta m r^{2} + \\Theta \\vartheta\\right)}{K_{t} K_{v} n \\left(R^{2} g m \\vartheta^{2} + \\left(m r^{2} + \\vartheta\\right) \\left(\\Gamma R s^{2} + \\Gamma r s^{2} - R^{2} g m \\vartheta - \\Theta g m r^{2}\\right)\\right) + s \\left(L_{m} s + R_{m}\\right) \\left(R^{2} m \\vartheta + \\Theta m r^{2} + \\Theta \\vartheta\\right) \\left(\\Gamma R s^{2} + \\Gamma r s^{2} - R^{2} g m \\vartheta - \\Theta g m r^{2}\\right)}$"
      ],
      "text/plain": [
       "                                                                              \n",
       "                                                                 Kₜ⋅R⋅n⋅s⋅vart\n",
       "──────────────────────────────────────────────────────────────────────────────\n",
       "        ⎛ 2             2   ⎛   2           ⎞ ⎛     2        2    2           \n",
       "Kₜ⋅Kᵥ⋅n⋅⎝R ⋅g⋅m⋅vartheta  + ⎝m⋅r  + vartheta⎠⋅⎝Γ⋅R⋅s  + Γ⋅r⋅s  - R ⋅g⋅m⋅varthe\n",
       "\n",
       "             ⎛ 2                   2             ⎞                            \n",
       "heta⋅(R + r)⋅⎝R ⋅m⋅vartheta + Θ⋅m⋅r  + Θ⋅vartheta⎠                            \n",
       "──────────────────────────────────────────────────────────────────────────────\n",
       "            2⎞⎞                 ⎛ 2                   2             ⎞ ⎛     2 \n",
       "ta - Θ⋅g⋅m⋅r ⎠⎠ + s⋅(Lₘ⋅s + Rₘ)⋅⎝R ⋅m⋅vartheta + Θ⋅m⋅r  + Θ⋅vartheta⎠⋅⎝Γ⋅R⋅s  \n",
       "\n",
       "                                      \n",
       "                                      \n",
       "──────────────────────────────────────\n",
       "       2    2                       2⎞\n",
       "+ Γ⋅r⋅s  - R ⋅g⋅m⋅vartheta - Θ⋅g⋅m⋅r ⎠"
      ]
     },
     "execution_count": 9,
     "metadata": {},
     "output_type": "execute_result"
    }
   ],
   "source": [
    "G1 = (eq_chi_s.rhs/u_s).simplify()\n",
    "\n",
    "Gcima = (((Kt*n)/(Lm*s+Rm))*G1).simplify()\n",
    "\n",
    "Gbaixo = ((R*g*m*v + (m*r**2+v)/G1)*(Kv/(s*(R**2*m*v + O*m*r**2 + O*v)))).simplify()\n",
    "\n",
    "Gp = (Gcima/(1+Gcima*Gbaixo)*(R+r)).simplify()\n",
    "\n",
    "Gp"
   ]
  },
  {
   "cell_type": "markdown",
   "metadata": {
    "lang": "en"
   },
   "source": [
    "So we get the transfer function from our plant (open loop), substituting the value of $$G_1(s)$$ shown below.\n",
    "\n",
    "![Picture title](Pictures/db-final.png)\n",
    "\n",
    "As discussed with teachers and other colleagues, for the present project we will dimension our controller to the $$Y(s)$$ variable directly.\n",
    "\n",
    "Note that it will now be necessary to carry out such dimensioning, so that we can test later with disturbances in the wheel torque, a more interesting physical parameter in the present problem.\n",
    "\n",
    "The closed loop with our controller is therefore as shown below.\n",
    "\n",
    "![Picture title](Pictures/db-malha-fechada.png)"
   ]
  },
  {
   "cell_type": "code",
   "execution_count": 10,
   "metadata": {
    "cell_id": "00020-b7703453-b741-4266-9f52-041f6aa3eed9",
    "deepnote_cell_type": "code",
    "deepnote_to_be_reexecuted": false,
    "execution_millis": 9,
    "execution_start": 1627852172507,
    "source_hash": "2ce762da",
    "tags": []
   },
   "outputs": [
    {
     "name": "stdout",
     "output_type": "stream",
     "text": [
      "K_t = Symbol('K_t')\n",
      "R = Symbol('R')\n",
      "n = Symbol('n')\n",
      "s = Symbol('s')\n",
      "vartheta = Symbol('vartheta')\n",
      "r = Symbol('r')\n",
      "m = Symbol('m')\n",
      "Theta = Symbol('Theta')\n",
      "K_v = Symbol('K_v')\n",
      "g = Symbol('g')\n",
      "Gamma = Symbol('Gamma')\n",
      "L_m = Symbol('L_m')\n",
      "R_m = Symbol('R_m')\n",
      "e = K_t*R*n*s*vartheta*(R + r)*(R**2*m*vartheta + Theta*m*r**2 + Theta*vartheta)/(K_t*K_v*n*(R**2*g*m*vartheta**2 + (m*r**2 + vartheta)*(Gamma*R*s**2 + Gamma*r*s**2 - R**2*g*m*vartheta - Theta*g*m*r**2)) + s*(L_m*s + R_m)*(R**2*m*vartheta + Theta*m*r**2 + Theta*vartheta)*(Gamma*R*s**2 + Gamma*r*s**2 - R**2*g*m*vartheta - Theta*g*m*r**2))\n"
     ]
    }
   ],
   "source": [
    "# Celula utilizada para conseguirmos pegar a expressão simbólica e transformá-la para Python, evitando erros na cópia\n",
    "print_python(Gp)"
   ]
  },
  {
   "cell_type": "code",
   "execution_count": 11,
   "metadata": {
    "cell_id": "00021-b356799e-6693-428d-a747-6386bd139f14",
    "deepnote_cell_type": "code",
    "deepnote_to_be_reexecuted": false,
    "execution_millis": 0,
    "execution_start": 1627852172556,
    "source_hash": "27b47e71",
    "tags": []
   },
   "outputs": [],
   "source": [
    "# Definição dos parâmetros numéricos\n",
    "\n",
    "s = co.tf(\"s\")\n",
    "\n",
    "Theta = 0.028 # kg.m^2\n",
    "R = 0.16 # m\n",
    "m = 0.048 # kg\n",
    "vartheta = 2.54e-5 #kg.m^2\n",
    "r = 0.0296 #m\n",
    "K_t = 0.1604 # N.m/A\n",
    "K_v = 0.1186 # V.s/rad\n",
    "R_m = 12 # ohm\n",
    "L_m = 1.16e-3 # H\n",
    "g = 9.8 # m/s^2\n",
    "n = 40\n",
    "Gamma = Theta*vartheta + m*(vartheta*(R**2) + Theta*(r**2))\n",
    "\n",
    "\n",
    "Gp = K_t*R*n*s*vartheta*(R + r)*(R**2*m*vartheta + Theta*m*r**2 + Theta*vartheta)/(K_t*K_v*n*(R**2*g*m*vartheta**2 + (m*r**2 + vartheta)*(Gamma*R*s**2 + Gamma*r*s**2 - R**2*g*m*vartheta - Theta*g*m*r**2)) + s*(L_m*s + R_m)*(R**2*m*vartheta + Theta*m*r**2 + Theta*vartheta)*(Gamma*R*s**2 + Gamma*r*s**2 - R**2*g*m*vartheta - Theta*g*m*r**2))"
   ]
  },
  {
   "cell_type": "markdown",
   "metadata": {
    "lang": "en"
   },
   "source": [
    "Let's, as a good practice, analyze the poles and zeros of our open-loop transfer function with the numerical parameters defined in the $\\textit{briefing}$ of the project."
   ]
  },
  {
   "cell_type": "code",
   "execution_count": 12,
   "metadata": {
    "cell_id": "00028-a40716e2-6d08-4201-b6aa-951056bbb4c6",
    "deepnote_cell_type": "code",
    "deepnote_to_be_reexecuted": false,
    "execution_millis": 4,
    "execution_start": 1627852172557,
    "source_hash": "db856474",
    "tags": []
   },
   "outputs": [
    {
     "name": "stdout",
     "output_type": "stream",
     "text": [
      "[-1.03425992e+04  5.69671377e+00 -5.72218197e+00 -2.20289160e+00] [0.]\n"
     ]
    }
   ],
   "source": [
    "p_g = co.pole(Gp)\n",
    "z_g = co.zero(Gp)\n",
    "print(p_g, z_g)"
   ]
  },
  {
   "cell_type": "markdown",
   "metadata": {
    "lang": "en"
   },
   "source": [
    "Our transfer function with the numerical values ​​is, in addition, as follows:"
   ]
  },
  {
   "cell_type": "code",
   "execution_count": 13,
   "metadata": {
    "cell_id": "00029-ea1c1f11-93b6-4605-bfe8-b417feb4964e",
    "deepnote_cell_type": "code",
    "deepnote_to_be_reexecuted": false,
    "execution_millis": 9,
    "execution_start": 1627852172581,
    "source_hash": "fd651b13",
    "tags": []
   },
   "outputs": [
    {
     "name": "stdout",
     "output_type": "stream",
     "text": [
      "VERSAO NAO SIMPLIFICADA\n",
      "\n",
      "                              9.492e-12 s\n",
      "-----------------------------------------------------------------------\n",
      "8.107e-16 s^4 + 8.387e-12 s^3 + 1.866e-11 s^2 - 2.729e-10 s - 6.021e-10\n",
      "\n",
      "VERSAO SIMPLIFICADA\n",
      "\n",
      "                           s\n",
      "--------------------------------------------------------\n",
      "8.542e-05 s^4 + 0.8836 s^3 + 1.966 s^2 - 28.75 s - 63.44\n",
      "\n"
     ]
    }
   ],
   "source": [
    "print(\"VERSAO NAO SIMPLIFICADA\")\n",
    "print(Gp)\n",
    "\n",
    "# Podemos realizar algumas manobras para simplificar ainda mais nossa funcao de transferencia, printamos sua versao simplificada logo abaixo\n",
    "\n",
    "aux_simplifica = 1/(Gp.num[0][0][0])\n",
    "Gpsimp = Gp*aux_simplifica/aux_simplifica\n",
    "\n",
    "print(\"VERSAO SIMPLIFICADA\")\n",
    "print(Gpsimp)"
   ]
  },
  {
   "cell_type": "markdown",
   "metadata": {
    "lang": "en"
   },
   "source": [
    "### 3. Controller Sizing\n",
    "\n",
    "A PID controller can be thought of as follows:\n",
    "\n",
    "$$G_c(s) = K_p (1+T_d s + \\frac{1}{T_i s})$$\n",
    "\n",
    "For which we must define the parameters $K_p$, $T_d$, $T_i$."
   ]
  },
  {
   "cell_type": "markdown",
   "metadata": {
    "lang": "en"
   },
   "source": [
    "#### 3.1 Choice of parameters\n",
    "\n",
    "The process of choosing the PID parameters took place interactively, through a *widget* that allows you to vary the value of the parameters and visualize the results obtained in a practical way."
   ]
  },
  {
   "cell_type": "code",
   "execution_count": 14,
   "metadata": {
    "cell_id": "00030-e14f543d-1607-4874-b2b7-bf43816769a0",
    "deepnote_cell_type": "code",
    "deepnote_output_heights": [
     null,
     285
    ],
    "deepnote_to_be_reexecuted": false,
    "execution_millis": 1249,
    "execution_start": 1627864896760,
    "source_hash": "9c15643e",
    "tags": []
   },
   "outputs": [
    {
     "data": {
      "application/vnd.jupyter.widget-view+json": {
       "model_id": "2a12b7e67c144a538dfb5d02e8b5f424",
       "version_major": 2,
       "version_minor": 0
      },
      "text/plain": [
       "interactive(children=(FloatSlider(value=500.005, description='Kp', max=1000.0, min=0.01), FloatSlider(value=7.…"
      ]
     },
     "metadata": {},
     "output_type": "display_data"
    }
   ],
   "source": [
    "@interact(Kp=(0.01, 1000), Td=(0.01, 15), Ti=(0.01, 10))\n",
    "def sistema(Kp, Td, Ti):\n",
    "    Gc = Kp*(1+Td*s + 1/(Ti*s))\n",
    "    co.sisotool(co.minreal(Gp*Gc, verbose=False))"
   ]
  },
  {
   "cell_type": "markdown",
   "metadata": {
    "lang": "en"
   },
   "source": [
    "Using the interactive technique, operationally allowed given current computational tools (in this case, Python), it was possible to design a PID that satisfactorily meets the desired requirements. The parameter values ​​will be:\n",
    "\n",
    "$$K_{p} = 150$$\n",
    "\n",
    "$$T_{d} = 10$$\n",
    "\n",
    "$$T_{i} = 0.5$$\n",
    "\n",
    "It is observed that the margin gain may show inconsistency given the requirement of the statement, but it is clear that this is natural given that it is impossible to make the margin gain be greater than 10dB, since the frequency graph is asymptotic to - 180º."
   ]
  },
  {
   "cell_type": "code",
   "execution_count": 15,
   "metadata": {
    "cell_id": "00033-695a6626-54c5-43e1-8417-0cd87e90d6ab",
    "deepnote_cell_type": "code",
    "deepnote_output_heights": [
     null,
     21.1875,
     250
    ],
    "deepnote_to_be_reexecuted": false,
    "execution_millis": 231,
    "execution_start": 1627859419031,
    "source_hash": "84ddc2f8",
    "tags": []
   },
   "outputs": [],
   "source": [
    "Kp = 150\n",
    "Td = 10\n",
    "Ti = 0.5"
   ]
  },
  {
   "cell_type": "markdown",
   "metadata": {
    "lang": "en"
   },
   "source": [
    "#### 3.2 Answer obtained\n",
    "\n",
    "Once the controller parameters are defined, it is possible to observe the plant response characteristics with the dimensioned controller. The cell below simplifies and exposes the values ​​of interest for this work, with the innovation and creativity of the members when calculating them with functions customized especially for this work."
   ]
  },
  {
   "cell_type": "code",
   "execution_count": 16,
   "metadata": {
    "cell_id": "00027-e24720fd-ccaf-446d-90b6-91d8d881beda",
    "deepnote_cell_type": "code",
    "deepnote_to_be_reexecuted": false,
    "execution_millis": 25,
    "execution_start": 1627864995844,
    "source_hash": "18b7b611",
    "tags": []
   },
   "outputs": [
    {
     "name": "stdout",
     "output_type": "stream",
     "text": [
      "0 states have been removed from the model\n"
     ]
    }
   ],
   "source": [
    "Gc = Kp*(1+Td*s + 1/(Ti*s))\n",
    "Gfinal = co.minreal(Gc*Gp, verbose=False)\n",
    "Gfmf  = co.minreal(co.feedback(Gfinal))"
   ]
  },
  {
   "cell_type": "code",
   "execution_count": 17,
   "metadata": {
    "cell_id": "00026-bdd3620c-6ed5-4f03-9894-660da4b92fd3",
    "deepnote_cell_type": "code",
    "deepnote_output_heights": [
     null,
     21.1875,
     250
    ],
    "deepnote_to_be_reexecuted": false,
    "execution_millis": 201,
    "execution_start": 1627865219899,
    "source_hash": "ae7afb84",
    "tags": []
   },
   "outputs": [
    {
     "name": "stdout",
     "output_type": "stream",
     "text": [
      "Saída em steady-state: 0.9990436470502209\n",
      "Máximo sobressinal: 0.00 %\n",
      "Tempo de subida: 0.016108161121310735\n"
     ]
    },
    {
     "data": {
      "text/plain": [
       "[<matplotlib.lines.Line2D at 0x1a20e40d4f0>]"
      ]
     },
     "execution_count": 17,
     "metadata": {},
     "output_type": "execute_result"
    },
    {
     "data": {
      "image/png": "[encoded data removed]",
      "text/plain": [
       "<Figure size 432x288 with 1 Axes>"
      ]
     },
     "metadata": {
      "needs_background": "light"
     },
     "output_type": "display_data"
    }
   ],
   "source": [
    "def acha_ts(y, t):\n",
    "    for i, val in enumerate(y):\n",
    "        if val >= y[-1]:\n",
    "            return t[i]\n",
    "    return np.nan\n",
    "\n",
    "y, t = co.step(Gfmf)\n",
    "print(\n",
    "f\"\"\"Saída em steady-state: {y[-1]}\n",
    "Máximo sobressinal: {(max(y)-y[-1])*100:.2f} %\n",
    "Tempo de subida: {acha_ts(y, t)}\"\"\"\n",
    ")\n",
    "plt.plot(t, y)"
   ]
  },
  {
   "cell_type": "code",
   "execution_count": 18,
   "metadata": {
    "cell_id": "00029-e1f54842-21a7-43ea-802b-f95d7eda2646",
    "deepnote_cell_type": "code",
    "deepnote_output_heights": [
     23,
     284
    ],
    "deepnote_to_be_reexecuted": false,
    "execution_millis": 313,
    "execution_start": 1627864997420,
    "source_hash": "96525124",
    "tags": []
   },
   "outputs": [
    {
     "data": {
      "image/png": "[encoded data removed]",
      "text/latex": [
       "$\\displaystyle \\left( 0.211457034452974, \\  80.8677051460022, \\  0.0, \\  1676.07140736986\\right)$"
      ],
      "text/plain": [
       "(0.21145703445297365, 80.86770514600221, 0.0, 1676.0714073698553)"
      ]
     },
     "execution_count": 18,
     "metadata": {},
     "output_type": "execute_result"
    },
    {
     "data": {
      "image/png": "[encoded data removed]",
      "text/plain": [
       "<Figure size 432x288 with 2 Axes>"
      ]
     },
     "metadata": {
      "needs_background": "light"
     },
     "output_type": "display_data"
    }
   ],
   "source": [
    "plot_margins(Gfinal)"
   ]
  },
  {
   "cell_type": "markdown",
   "metadata": {
    "lang": "en"
   },
   "source": [
    "### 4. Control effort considerations\n",
    "\n",
    "For every control project, it is necessary to try to evaluate the control effort, since a given solution may not be the most efficient in terms of effort to carry out. Control effort is the amount of energy or force required for the controller to perform its activity correctly.\n",
    "\n",
    "In this case, we analyze the current demanded by the system. To do this, we modified the block diagram as follows:\n",
    "\n",
    "![Picture title](Pictures/db-esforco.png)\n",
    "\n",
    "How simplified it is:\n",
    "\n",
    "![Picture title](Pictures/db-esforco-simp.png)"
   ]
  },
  {
   "cell_type": "code",
   "execution_count": 19,
   "metadata": {
    "cell_id": "00032-571f9a1d-c4fd-493e-8b89-6648bbe09975",
    "deepnote_cell_type": "code",
    "deepnote_to_be_reexecuted": false,
    "execution_millis": 23,
    "execution_start": 1627855141568,
    "source_hash": "2e259e6b",
    "tags": []
   },
   "outputs": [
    {
     "name": "stdout",
     "output_type": "stream",
     "text": [
      "3 states have been removed from the model\n",
      "\n",
      "1.293e+06 s^4 + 1.293e+05 s^3 - 4.182e+07 s^2 - 4.208e+06 s - 8.416e+06\n",
      "-----------------------------------------------------------------------\n",
      "     s^4 + 1.034e+04 s^3 + 1.758e+07 s^2 + 1.419e+06 s + 2.77e+06\n",
      "\n"
     ]
    }
   ],
   "source": [
    "G1 = R*vartheta/(Gamma*R*s**2 + Gamma*r*s**2 - R**2*g*m*vartheta - Theta*g*m*r**2)\n",
    "\n",
    "Gesfcima = Gc*1/(L_m*s + R_m)\n",
    "Gesfbaixo = ((1/Gc*K_v/(s*(R**2*m*vartheta+Theta*m*r**2+Theta*vartheta))\n",
    "    *(R*g*m*vartheta+(m*r**2 + vartheta)/G1)*1/(R+r)+1)*K_t*n*G1*(R+r))\n",
    "\n",
    "Gesf = co.minreal(co.feedback(Gesfcima, Gesfbaixo))\n",
    "print(Gesf)"
   ]
  },
  {
   "cell_type": "code",
   "execution_count": 20,
   "metadata": {
    "cell_id": "00033-fb312309-74a8-43da-bbf1-72fbc6b405a4",
    "deepnote_cell_type": "code",
    "deepnote_output_heights": [
     21.1875,
     250
    ],
    "deepnote_to_be_reexecuted": false,
    "execution_millis": 235,
    "execution_start": 1627855176405,
    "source_hash": "421bd07a",
    "tags": []
   },
   "outputs": [
    {
     "data": {
      "text/plain": [
       "[<matplotlib.lines.Line2D at 0x1a20ef1ee20>]"
      ]
     },
     "execution_count": 20,
     "metadata": {},
     "output_type": "execute_result"
    },
    {
     "data": {
      "image/png": "[encoded data removed]",
      "text/plain": [
       "<Figure size 432x288 with 1 Axes>"
      ]
     },
     "metadata": {
      "needs_background": "light"
     },
     "output_type": "display_data"
    }
   ],
   "source": [
    "y, t = co.step(Gesf)\n",
    "plt.plot(t, y)"
   ]
  },
  {
   "cell_type": "markdown",
   "metadata": {
    "lang": "en"
   },
   "source": [
    "It is noticed that the curve obtained for the control effort has the usual format. However, as expected (given the fast dynamics of the system as a whole, including that of the sized controller) the current drawn has an extremely high amplitude. This inaccuracy comes naturally as the nature of the system is extremely fast and we need to get the ball back to equilibrium quickly. This makes the current consumption appear higher than what the actuator suggested in the statement supports."
   ]
  },
  {
   "cell_type": "markdown",
   "metadata": {
    "lang": "en"
   },
   "source": [
    "### 5. Disturbance Applications\n",
    "\n",
    "As the present project is physically intuitive and intriguing in terms of interactions with external users, it is extremely valid to observe the behavior of the system with the designed controller when exposed to external disturbances. In practical terms, the setpoint, $Y_{sp}(s) = 0$, is considered null, since the intention is to observe how the assembly reacts when trying to bring the ball up, in the unstable equilibrium position, in which the value of $Y$ is just null. The figure below presents the block diagram with the consideration of the disturbance.\n",
    "\n",
    "![Picture title](Pictures/db-disturbios.png)\n",
    "\n",
    "\n",
    "4 main tests will be performed, varying the behavior of $D(s)$, chosen following the usual control projects and the curiosity of the members, who thought of plausible tests that would be performed by external users when contacting the system."
   ]
  },
  {
   "cell_type": "markdown",
   "metadata": {
    "lang": "en"
   },
   "source": [
    "#### 5.1 Step\n",
    "\n",
    "The first test to be performed represents the consideration of $D(s)$ as a step. Physically, it would be as if the ball suffered efforts equivalent to being constantly pushed 1cm (amplitude of the chosen step) out of its equilibrium position. The system must be able to make it come back, that is, to compensate for this disturbance.\n",
    "\n",
    "The code below exposes the construction of this test. The rung application was made from $0.25\\;s$."
   ]
  },
  {
   "cell_type": "code",
   "execution_count": 21,
   "metadata": {
    "cell_id": "00037-9d0689fc-f18d-4a14-8cc7-4e4efd045ad5",
    "deepnote_cell_type": "code",
    "deepnote_output_heights": [
     250
    ],
    "deepnote_to_be_reexecuted": false,
    "execution_millis": 336,
    "execution_start": 1627862589734,
    "source_hash": "af624c8",
    "tags": []
   },
   "outputs": [
    {
     "data": {
      "image/png": "[encoded data removed]",
      "text/plain": [
       "<Figure size 432x288 with 1 Axes>"
      ]
     },
     "metadata": {
      "needs_background": "light"
     },
     "output_type": "display_data"
    }
   ],
   "source": [
    "t = np.linspace(0, 500e-3, 10000)\n",
    "entrada = np.zeros(len(t))\n",
    "entrada[len(t)//2:] = 0.01\n",
    "y,t,xout= co.lsim(co.feedback(1, Gfinal), entrada, t)\n",
    "\n",
    "plt.figure()\n",
    "plt.plot(t,y)\n",
    "plt.grid()"
   ]
  },
  {
   "cell_type": "markdown",
   "metadata": {
    "lang": "en"
   },
   "source": [
    "It is noticed that the system responds well to this disturbance, making the ball return to its equilibrium position very quickly.\n",
    "\n",
    "#### 5.2 Impulse\n",
    "\n",
    "One of the most interesting tests to be done is equivalent to an external \"flicker\" on the ball. It is expected again that the system will be able to make it return to its unstable equilibrium position quickly.\n",
    "\n",
    "The code below exposes the construction of this test. Impulse application was done in $0.5\\;s$."
   ]
  },
  {
   "cell_type": "code",
   "execution_count": 22,
   "metadata": {
    "cell_id": "00041-368e07ad-7c21-4d61-9d37-aa0456fc9c02",
    "deepnote_cell_type": "code",
    "deepnote_output_heights": [
     250
    ],
    "deepnote_to_be_reexecuted": false,
    "execution_millis": 327,
    "execution_start": 1627852174556,
    "source_hash": "676fff16",
    "tags": []
   },
   "outputs": [
    {
     "data": {
      "image/png": "[encoded data removed]",
      "text/plain": [
       "<Figure size 432x288 with 1 Axes>"
      ]
     },
     "metadata": {
      "needs_background": "light"
     },
     "output_type": "display_data"
    }
   ],
   "source": [
    "t = np.linspace(0, 1000e-3, 10000)\n",
    "entrada = np.zeros(len(t))\n",
    "entrada[len(t)//2] = 0.01\n",
    "y,t,xout= co.lsim(co.feedback(1, Gfinal), entrada, t)\n",
    "\n",
    "plt.figure()\n",
    "plt.plot(t,y)\n",
    "plt.grid()"
   ]
  },
  {
   "cell_type": "markdown",
   "metadata": {
    "lang": "en"
   },
   "source": [
    "It is noticed that the system responds well to this disturbance, making the ball return to its equilibrium position very quickly. However, as expected physically, the ball goes through a kind of supersignal, that is, it returns to equilibrium but passes through a small distance. This error is corrected soon after, since it returns to the equilibrium position in the opposite direction.\n",
    "\n",
    "#### 5.3 Alternation of impulses in the same direction\n",
    "\n",
    "For this third test, impulses will be used in the same direction at different time points. Physically, it represents two \"flips\" in the same sense. The first happens to $0.25\\;s$ and the second to $0.5\\;s$."
   ]
  },
  {
   "cell_type": "code",
   "execution_count": 23,
   "metadata": {
    "cell_id": "00045-d8b31d86-a7e1-4797-9da9-1c464b76e716",
    "deepnote_cell_type": "code",
    "deepnote_output_heights": [
     250
    ],
    "deepnote_to_be_reexecuted": false,
    "execution_millis": 345,
    "execution_start": 1627852174880,
    "source_hash": "81ba509b",
    "tags": []
   },
   "outputs": [
    {
     "data": {
      "image/png": "[encoded data removed]",
      "text/plain": [
       "<Figure size 432x288 with 1 Axes>"
      ]
     },
     "metadata": {
      "needs_background": "light"
     },
     "output_type": "display_data"
    }
   ],
   "source": [
    "t = np.linspace(0, 1000e-3, 10000)\n",
    "entrada = np.zeros(len(t))\n",
    "entrada[len(t)//4] = 0.01\n",
    "\n",
    "entrada[len(t)//2] = 0.01\n",
    "y,t,xout= co.lsim(co.feedback(1, Gfinal), entrada, t)\n",
    "\n",
    "plt.figure()\n",
    "plt.plot(t,y)\n",
    "plt.grid()"
   ]
  },
  {
   "cell_type": "markdown",
   "metadata": {
    "lang": "en"
   },
   "source": [
    "It is noticed that the system responds well to this disturbance, making the ball return to its equilibrium position very quickly both times. However, just as in the case with just a \"flicker\", as expected physically, the ball goes through a kind of signal, that is, it returns to equilibrium but passes through a small distance. This error is corrected soon after, since it returns to the equilibrium position in the opposite direction.\n",
    "\n",
    "#### 5.4 Alternating impulses with opposite directions\n",
    "\n",
    "In the last test, something similar to the previous one is performed, but with two \"flips\" in opposite directions. The first happens to $0.25\\;s$ and the second to $0.5\\;s$."
   ]
  },
  {
   "cell_type": "code",
   "execution_count": 24,
   "metadata": {
    "cell_id": "00047-ef8dd274-5202-41f5-b0c3-0b2d0691dfe2",
    "deepnote_cell_type": "code",
    "deepnote_output_heights": [
     250
    ],
    "deepnote_to_be_reexecuted": false,
    "execution_millis": 347,
    "execution_start": 1627852175223,
    "source_hash": "57b42f61",
    "tags": []
   },
   "outputs": [
    {
     "data": {
      "image/png": "[encoded data removed]",
      "text/plain": [
       "<Figure size 432x288 with 1 Axes>"
      ]
     },
     "metadata": {
      "needs_background": "light"
     },
     "output_type": "display_data"
    }
   ],
   "source": [
    "t = np.linspace(0, 1000e-3, 10000)\n",
    "entrada = np.zeros(len(t))\n",
    "entrada[len(t)//4] = 0.01\n",
    "\n",
    "entrada[len(t)//2] = - 0.01\n",
    "y,t,xout= co.lsim(co.feedback(1, Gfinal), entrada, t)\n",
    "\n",
    "plt.figure()\n",
    "plt.plot(t,y)\n",
    "plt.grid()"
   ]
  },
  {
   "cell_type": "markdown",
   "metadata": {
    "lang": "en"
   },
   "source": [
    "It is noticed that the system responds well to this disturbance, making the ball return to its equilibrium position very quickly both times. However, as in the previous cases, as expected physically, the ball goes through a kind of overhang, that is, it returns to equilibrium but passes through a small distance. This error is corrected soon after, since it returns to the equilibrium position in the opposite direction, for both impulses performed.\n",
    "\n",
    "### 6. Analysis of results\n",
    "\n",
    "As with any control project, the plant for which the controller would be developed must be well understood. Therefore, the present discussions are important to the point that they begin by valuing its analysis, that is, the painstaking work of assembling the block diagram and understanding the dynamic equations of the system of interest. There is an important feedback relationship that would not be noticed by simply viewing the equations. With a well-assembled block diagram in hand, it was possible to proceed with the dimensioning without any doubts about possible errors in the interpretation of the problem, which ensured accuracy in the following steps.\n",
    "\n",
    "In terms of dimensioning, several facilitating techniques were seen that provide guidelines for the tests to be performed. With the help of Python and current computational potential, extremely easy and fast interactive methods can be used to obtain proper parameter values. Therefore, the dimensioning was simple and intuitive, allowing greater care in the analysis item, which adds value to the project, than in the mathematical-operational item, just a means to obtain interesting results.\n",
    "\n",
    "Next, a comparison is made between the requirements of the statement and whether they were met or not (if not, a small justification is provided, which were also mentioned throughout the previous cells):\n",
    "\n",
    "- $e_{SS}$ static regime error equal to zero -> Fulfilled\n",
    "- Maximum supersisnal $M_{p}$ less than $10\\%$ -> Fulfilled\n",
    "- $t_{S}$ settlement time of $2\\%$ compatible with system dynamics -> Fulfilled\n",
    "- $G_{M}$ gain margin greater than $10dB$ -> Not fulfilled, since the frequency graph is asymptotic at -180º, which does not allow the requirement to be met\n",
    "- $\\phi_{M}$ phase margin greater than 45º -> Fulfilled\n",
    "- Rejection for step-type disturbance -> Fulfilled (however, it was not possible to determine the maximum step value that the system can reject and make the ball return to the unstable equilibrium position, since for any step amplitude the system will showed capable of doing so. Such impossibility is natural, since mathematical simplifications were made throughout development, such as that of sine for small angles. This does not imply that there is no maximum value, since we physically know that this value is exists, but it is just not possible to obtain it with the modeling done and held for the present work)\n",
    "- Control effort compatible with maximum actuator current -> Not met (given the extremely fast nature of the system and the fact that we need to get the ball to return to equilibrium position quickly, current consumption proved to be higher than what the actuator suggested in the statement supports)\n",
    "- Check how far from the balance point the ball can be so that the control system can still achieve the goals -> As for the step-type disturbance item, it was not possible to determine how far from the balance point the ball may be there for the control system to still be able to achieve the objectives, since for any amplitude the system has shown itself capable of doing so. This impossibility is, again, natural, since mathematical simplifications were made throughout development, such as sine for small angles. This does not imply that there is no maximum value, since we physically know that this value exists, but that it is just not possible to obtain it with the modeling done and maintained for the present work. In general, it is expected that it will be able to do a good control up to a little more than 14º of angular displacement, given that this is the threshold value for the sine simplification for small angles to still be satisfactory.\n",
    "\n",
    "The statement initially suggests the use of cascading controllers for a second state variable (which in the present case would be speed). The reason for this proposition is based on the fact that we have velocity dynamics much faster than the position dynamics, which usually indicates the need for cascade controllers. However, after long attempts and some conferences with teachers, its use proved unnecessary and only one PID was enough to meet the objectives of the present work.\n",
    "\n",
    "Regarding the disturbance tests in $Y(s)$, it was possible to notice that the controller responded well to the situations set up by the team. Interesting and real situations were organized, with physical associations to the \"flips\" that external users would perform in the system. It is possible to notice a fast and well-behaved response, configuring a good sizing performed previously."
   ]
  },
  {
   "cell_type": "markdown",
   "metadata": {
    "lang": "en"
   },
   "source": [
    "### 7. Conclusions\n",
    "\n",
    "Once the control system has been dimensioned, the graphics obtained and their representations discussed, considering physical aspects, this report can be closed with general conclusions of the work. Initially, the physical character of the problem should be emphasized, that is, as it is a plant with features and needs (requirements) common in the field of engineering, enormous value is given to the treatment of its equations and to the solution by analytical and computational methods . This value, combined with considerations developed in different languages ​​and libraries, adds value to engineering both in the academic and market senses.\n",
    "\n",
    "Additionally, given the didactic nature of the discipline, the relevance of deepening and developing different methods for the resolution of this work should be mentioned. As seen in theory, in class, one can put the knowledge received into practice and observe, with one's own eyes, the trade-off that is always present in engineering: between precision and computational-analytic effort, generally connected with the time taken to obtain of a solution. It takes, therefore, to the team's posterity, the contact with the skill when looking for not an ideal solution, but a sufficiently adequate solution (always safe) to carry out future projects and analyze physical phenomena.\n",
    "\n",
    "Finally, contact with important tools for the current industry, such as Python and its libraries (symbolic, related to control and algebraic), complete and add to the work another valuable learning experience. The present study ends, not only with the training of qualitative skills, but also with the improvement of technical-operational skills, which are in no way comparable to each other, being unique and important in different ways for the achievement of an academic study and an engineering project."
   ]
  }
 ],
 "metadata": {
  "colab": {
   "collapsed_sections": [],
   "name": "Trabalho Final.ipynb",
   "provenance": []
  },
  "deepnote": {},
  "deepnote_execution_queue": [],
  "deepnote_notebook_id": "320d4842-f02b-4ac8-b599-e88d7433d27c",
  "kernelspec": {
   "display_name": "Python [conda env:root] *",
   "language": "python",
   "name": "conda-root-py"
  },
  "language_info": {
   "codemirror_mode": {
    "name": "ipython",
    "version": 3
   },
   "file_extension": ".py",
   "mimetype": "text/x-python",
   "name": "python",
   "nbconvert_exporter": "python",
   "pygments_lexer": "ipython3",
   "version": "3.8.8"
  },
  "nbTranslate": {
   "displayLangs": [],
   "hotkey": "alt-t",
   "langInMainMenu": true,
   "sourceLang": "pt",
   "targetLang": "en",
   "useGoogleTranslate": true
  },
  "varInspector": {
   "cols": {
    "lenName": 16,
    "lenType": 16,
    "lenVar": 40
   },
   "kernels_config": {
    "python": {
     "delete_cmd_postfix": "",
     "delete_cmd_prefix": "del ",
     "library": "var_list.py",
     "varRefreshCmd": "print(var_dic_list())"
    },
    "r": {
     "delete_cmd_postfix": ") ",
     "delete_cmd_prefix": "rm(",
     "library": "var_list.r",
     "varRefreshCmd": "cat(var_dic_list()) "
    }
   },
   "types_to_exclude": [
    "module",
    "function",
    "builtin_function_or_method",
    "instance",
    "_Feature"
   ],
   "window_display": false
  }
 },
 "nbformat": 4,
 "nbformat_minor": 1
}
